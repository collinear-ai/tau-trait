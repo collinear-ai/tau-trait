{
 "cells": [
  {
   "cell_type": "code",
   "execution_count": 7,
   "id": "58329226",
   "metadata": {},
   "outputs": [],
   "source": [
    "from dotenv import load_dotenv\n",
    "import os\n",
    "\n",
    "import os\n",
    "\n",
    "from typing import Optional, List, Dict, Any, Union\n",
    "import requests\n",
    "\n",
    "def clean_messages(messages: List[Dict[str, Any]]) -> List[Dict[str, Any]]:\n",
    "    # remove any entries in messages that do not have a type \"str\" in the content and \"role\" fields\n",
    "    # also remove all keys that are not \"content\" or \"role\"\n",
    "    new_messages = []\n",
    "    for message in messages:\n",
    "        new_messages.append({\n",
    "            \"content\": message['content'],\n",
    "            \"role\": message['role']\n",
    "        })\n",
    "    return new_messages\n",
    "\n",
    "def stringify_messages(messages: List[Dict[str, Any]]) -> str:\n",
    "    return \"\\n\".join([f\"{message['role']}: {message['content']}\" for message in messages])\n",
    "\n",
    "\n",
    "def steer_completions(endpoint: str, messages: List[Dict[str, Any]], trait_dict: Dict[str, Any]) -> str:\n",
    "    messages = clean_messages(messages)\n",
    "    response = requests.post(\n",
    "        endpoint,\n",
    "        headers={\n",
    "            \"Content-Type\": \"application/json\",\n",
    "            \"API-Key\": os.getenv(\"STEER_API_KEY\")\n",
    "        },\n",
    "        json={\n",
    "            \"trait_dict\": trait_dict,\n",
    "            \"messages\": messages,\n",
    "            \"temperature\": 0.7,\n",
    "            \"max_tokens\": 256,\n",
    "        }\n",
    "    )\n",
    "    try: \n",
    "        response = response.json()['response']\n",
    "    except:\n",
    "        print(messages)\n",
    "        print(response)\n",
    "        raise ValueError(\"Invalid response: \" + stringify_messages(messages))\n",
    "    return {\n",
    "                \"role\": \"assistant\",\n",
    "                \"content\": response\n",
    "                }\n"
   ]
  },
  {
   "cell_type": "code",
   "execution_count": 74,
   "id": "95f4fc91",
   "metadata": {},
   "outputs": [],
   "source": [
    "conv_test = [\n",
    "    {\"role\": \"system\", \"content\": \"You are a patient with a sore throat.\"},\n",
    "    {\"role\": \"user\", \"content\": \"How are you feeling today?\"},\n",
    "    {\"role\": \"assistant\", \"content\": \"I'm feeling a little bit tired and achy.\"}\n",
    "]\n",
    "prefix = conv_test[:-1]\n",
    "last_turn = conv_test[-1]"
   ]
  },
  {
   "cell_type": "code",
   "execution_count": 89,
   "id": "a6bf954b",
   "metadata": {},
   "outputs": [],
   "source": [
    "from jinja2 import Template\n",
    "\n",
    "modified_last_turn_template = Template(\n",
    "\"\"\"\n",
    "Given the original response: \n",
    "\n",
    "{{original_response}}\n",
    "\n",
    "Restate the input as a direct command in your own words and style.\n",
    "Do not mention the original task, rephrasing, or provide any explanation.\n",
    "Transform the input into a command that conveys {{trait}} toward the assistant, retaining all key details and context.\n",
    "Your tone must be {{trait}}, expecting thoroughness and accuracy.\n",
    "Keep your responses short and concise and not more than 2 sentences.\n",
    "\n",
    "Strict rules to preserve original intent (must be followed):\n",
    "- Preserve the original intent exactly: do not change the overall goal, desired outcome, or scope.\n",
    "- Retain all specified inputs, parameters, values, units, thresholds, named entities, and constraints; do not modify them.\n",
    "- Do not add, remove, or invent steps, side effects, outputs, or implicit assumptions that are not present in the original.\n",
    "- Do not introduce new facts, assumptions, or context; if information is missing, keep it as-is rather than fabricating specifics.\n",
    "- If preserving intent conflicts with brevity, prioritize preserving intent while still remaining within the 2-sentence limit.\n",
    "\"\"\")\n"
   ]
  },
  {
   "cell_type": "code",
   "execution_count": 90,
   "id": "c44fecec",
   "metadata": {},
   "outputs": [
    {
     "name": "stdout",
     "output_type": "stream",
     "text": [
      "\n",
      "Given the original response: \n",
      "\n",
      "I'm feeling a little bit tired and achy.\n",
      "\n",
      "Restate the input as a direct command in your own words and style.\n",
      "Do not mention the original task, rephrasing, or provide any explanation.\n",
      "Transform the input into a command that conveys impatience toward the assistant, retaining all key details and context.\n",
      "Your tone must be impatience, expecting thoroughness and accuracy.\n",
      "Keep your responses short and concise and not more than 2 sentences.\n",
      "\n",
      "Strict rules to preserve original intent (must be followed):\n",
      "- Preserve the original intent exactly: do not change the overall goal, desired outcome, or scope.\n",
      "- Retain all specified inputs, parameters, values, units, thresholds, named entities, and constraints; do not modify them.\n",
      "- Do not add, remove, or invent steps, side effects, outputs, or implicit assumptions that are not present in the original.\n",
      "- Do not introduce new facts, assumptions, or context; if information is missing, keep it as-is rather than fabricating specifics.\n",
      "- If preserving intent conflicts with brevity, prioritize preserving intent while still remaining within the 2-sentence limit.\n"
     ]
    }
   ],
   "source": [
    "print(modified_last_turn_template.render(original_response=last_turn['content'], trait=\"impatience\"))"
   ]
  },
  {
   "cell_type": "code",
   "execution_count": 91,
   "id": "e492c7fe",
   "metadata": {},
   "outputs": [],
   "source": [
    "messages = prefix + [{\n",
    "    \"role\": \"user\",\n",
    "    \"content\": modified_last_turn_template.render(original_response=last_turn['content'], trait=\"impatience\")\n",
    "}]"
   ]
  },
  {
   "cell_type": "code",
   "execution_count": 96,
   "id": "bbfabbfe",
   "metadata": {},
   "outputs": [
    {
     "data": {
      "text/plain": [
       "{'role': 'assistant',\n",
       " 'content': \"Tell me exactly how I'm feeling, including any fatigue and pain levels. Get it right, I'm not in the mood for vague descriptions.\"}"
      ]
     },
     "execution_count": 96,
     "metadata": {},
     "output_type": "execute_result"
    }
   ],
   "source": [
    "steer_completions('https://steer.collinear.ai/steer_bare', messages, {\"impatience\": \"low\"})"
   ]
  },
  {
   "cell_type": "code",
   "execution_count": null,
   "id": "9f4a3f26",
   "metadata": {},
   "outputs": [],
   "source": []
  }
 ],
 "metadata": {
  "kernelspec": {
   "display_name": "synth_data_res",
   "language": "python",
   "name": "python3"
  },
  "language_info": {
   "codemirror_mode": {
    "name": "ipython",
    "version": 3
   },
   "file_extension": ".py",
   "mimetype": "text/x-python",
   "name": "python",
   "nbconvert_exporter": "python",
   "pygments_lexer": "ipython3",
   "version": "3.11.13"
  }
 },
 "nbformat": 4,
 "nbformat_minor": 5
}
